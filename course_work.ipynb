{
 "cells": [
  {
   "cell_type": "markdown",
   "id": "5dcd5bf9-c1db-44da-8c61-80c4fd5ef6a6",
   "metadata": {},
   "source": [
    "# Курсовая работа"
   ]
  },
  {
   "cell_type": "markdown",
   "id": "3e614dc2-b942-47bc-b9c3-dbec7cd0aff5",
   "metadata": {},
   "source": [
    "Предсказание температуры в Сегеде"
   ]
  },
  {
   "cell_type": "markdown",
   "id": "f28919ff-abc9-4be4-9708-ec66a07a29c4",
   "metadata": {},
   "source": [
    "## Приступая к работе"
   ]
  },
  {
   "cell_type": "markdown",
   "id": "92e252ce-f8cd-4f0b-b8e8-d77ea6c8760c",
   "metadata": {},
   "source": [
    "### Импорты"
   ]
  },
  {
   "cell_type": "code",
   "execution_count": 91,
   "id": "ad216b8b-6d9a-40ad-b5f5-9080ef02e3e9",
   "metadata": {},
   "outputs": [],
   "source": [
    "import numpy as np\n",
    "import pandas as pd\n",
    "from scipy import stats\n",
    "from matplotlib import pyplot as plt\n",
    "import seaborn as sns\n",
    "from sklearn.decomposition import PCA\n",
    "from sklearn.model_selection import train_test_split\n",
    "from sklearn.linear_model import LinearRegression\n",
    "from sklearn.metrics import r2_score"
   ]
  },
  {
   "cell_type": "markdown",
   "id": "0b4af657-354a-4868-9096-60866f95e03c",
   "metadata": {},
   "source": [
    "### Загрузка датасета"
   ]
  },
  {
   "cell_type": "code",
   "execution_count": 68,
   "id": "c535c942-357e-4c45-8503-886d6232bf80",
   "metadata": {},
   "outputs": [],
   "source": [
    "df = pd.read_csv('data/weatherHistory.csv')"
   ]
  },
  {
   "cell_type": "markdown",
   "id": "a7115aef-030c-454e-9096-480477a18025",
   "metadata": {},
   "source": [
    "## Разведочный анализ данных"
   ]
  },
  {
   "cell_type": "code",
   "execution_count": 69,
   "id": "84562973-3655-48c4-91f7-d4e88c279098",
   "metadata": {},
   "outputs": [],
   "source": [
    "eda_df = df"
   ]
  },
  {
   "cell_type": "markdown",
   "id": "487f08c4-7549-4ce6-86f8-414d56a9ee2d",
   "metadata": {},
   "source": [
    "### Общий вид"
   ]
  },
  {
   "cell_type": "code",
   "execution_count": 70,
   "id": "c7ae74fa-56e8-4ae4-aa42-5dbfebbcfccc",
   "metadata": {},
   "outputs": [
    {
     "name": "stdout",
     "output_type": "stream",
     "text": [
      "<class 'pandas.core.frame.DataFrame'>\n",
      "RangeIndex: 96453 entries, 0 to 96452\n",
      "Data columns (total 12 columns):\n",
      " #   Column                    Non-Null Count  Dtype  \n",
      "---  ------                    --------------  -----  \n",
      " 0   Formatted Date            96453 non-null  object \n",
      " 1   Summary                   96453 non-null  object \n",
      " 2   Precip Type               95936 non-null  object \n",
      " 3   Temperature (C)           96453 non-null  float64\n",
      " 4   Apparent Temperature (C)  96453 non-null  float64\n",
      " 5   Humidity                  96453 non-null  float64\n",
      " 6   Wind Speed (km/h)         96453 non-null  float64\n",
      " 7   Wind Bearing (degrees)    96453 non-null  float64\n",
      " 8   Visibility (km)           96453 non-null  float64\n",
      " 9   Loud Cover                96453 non-null  float64\n",
      " 10  Pressure (millibars)      96453 non-null  float64\n",
      " 11  Daily Summary             96453 non-null  object \n",
      "dtypes: float64(8), object(4)\n",
      "memory usage: 8.8+ MB\n"
     ]
    }
   ],
   "source": [
    "eda_df.info()"
   ]
  },
  {
   "cell_type": "code",
   "execution_count": 71,
   "id": "afb925ff-a830-4a83-8ea4-b7c10682e110",
   "metadata": {},
   "outputs": [
    {
     "data": {
      "text/html": [
       "<div>\n",
       "<style scoped>\n",
       "    .dataframe tbody tr th:only-of-type {\n",
       "        vertical-align: middle;\n",
       "    }\n",
       "\n",
       "    .dataframe tbody tr th {\n",
       "        vertical-align: top;\n",
       "    }\n",
       "\n",
       "    .dataframe thead th {\n",
       "        text-align: right;\n",
       "    }\n",
       "</style>\n",
       "<table border=\"1\" class=\"dataframe\">\n",
       "  <thead>\n",
       "    <tr style=\"text-align: right;\">\n",
       "      <th></th>\n",
       "      <th>Temperature (C)</th>\n",
       "      <th>Apparent Temperature (C)</th>\n",
       "      <th>Humidity</th>\n",
       "      <th>Wind Speed (km/h)</th>\n",
       "      <th>Wind Bearing (degrees)</th>\n",
       "      <th>Visibility (km)</th>\n",
       "      <th>Loud Cover</th>\n",
       "      <th>Pressure (millibars)</th>\n",
       "    </tr>\n",
       "  </thead>\n",
       "  <tbody>\n",
       "    <tr>\n",
       "      <th>count</th>\n",
       "      <td>96453.000000</td>\n",
       "      <td>96453.000000</td>\n",
       "      <td>96453.000000</td>\n",
       "      <td>96453.000000</td>\n",
       "      <td>96453.000000</td>\n",
       "      <td>96453.000000</td>\n",
       "      <td>96453.0</td>\n",
       "      <td>96453.000000</td>\n",
       "    </tr>\n",
       "    <tr>\n",
       "      <th>mean</th>\n",
       "      <td>11.932678</td>\n",
       "      <td>10.855029</td>\n",
       "      <td>0.734899</td>\n",
       "      <td>10.810640</td>\n",
       "      <td>187.509232</td>\n",
       "      <td>10.347325</td>\n",
       "      <td>0.0</td>\n",
       "      <td>1003.235956</td>\n",
       "    </tr>\n",
       "    <tr>\n",
       "      <th>std</th>\n",
       "      <td>9.551546</td>\n",
       "      <td>10.696847</td>\n",
       "      <td>0.195473</td>\n",
       "      <td>6.913571</td>\n",
       "      <td>107.383428</td>\n",
       "      <td>4.192123</td>\n",
       "      <td>0.0</td>\n",
       "      <td>116.969906</td>\n",
       "    </tr>\n",
       "    <tr>\n",
       "      <th>min</th>\n",
       "      <td>-21.822222</td>\n",
       "      <td>-27.716667</td>\n",
       "      <td>0.000000</td>\n",
       "      <td>0.000000</td>\n",
       "      <td>0.000000</td>\n",
       "      <td>0.000000</td>\n",
       "      <td>0.0</td>\n",
       "      <td>0.000000</td>\n",
       "    </tr>\n",
       "    <tr>\n",
       "      <th>25%</th>\n",
       "      <td>4.688889</td>\n",
       "      <td>2.311111</td>\n",
       "      <td>0.600000</td>\n",
       "      <td>5.828200</td>\n",
       "      <td>116.000000</td>\n",
       "      <td>8.339800</td>\n",
       "      <td>0.0</td>\n",
       "      <td>1011.900000</td>\n",
       "    </tr>\n",
       "    <tr>\n",
       "      <th>50%</th>\n",
       "      <td>12.000000</td>\n",
       "      <td>12.000000</td>\n",
       "      <td>0.780000</td>\n",
       "      <td>9.965900</td>\n",
       "      <td>180.000000</td>\n",
       "      <td>10.046400</td>\n",
       "      <td>0.0</td>\n",
       "      <td>1016.450000</td>\n",
       "    </tr>\n",
       "    <tr>\n",
       "      <th>75%</th>\n",
       "      <td>18.838889</td>\n",
       "      <td>18.838889</td>\n",
       "      <td>0.890000</td>\n",
       "      <td>14.135800</td>\n",
       "      <td>290.000000</td>\n",
       "      <td>14.812000</td>\n",
       "      <td>0.0</td>\n",
       "      <td>1021.090000</td>\n",
       "    </tr>\n",
       "    <tr>\n",
       "      <th>max</th>\n",
       "      <td>39.905556</td>\n",
       "      <td>39.344444</td>\n",
       "      <td>1.000000</td>\n",
       "      <td>63.852600</td>\n",
       "      <td>359.000000</td>\n",
       "      <td>16.100000</td>\n",
       "      <td>0.0</td>\n",
       "      <td>1046.380000</td>\n",
       "    </tr>\n",
       "  </tbody>\n",
       "</table>\n",
       "</div>"
      ],
      "text/plain": [
       "       Temperature (C)  Apparent Temperature (C)      Humidity  \\\n",
       "count     96453.000000              96453.000000  96453.000000   \n",
       "mean         11.932678                 10.855029      0.734899   \n",
       "std           9.551546                 10.696847      0.195473   \n",
       "min         -21.822222                -27.716667      0.000000   \n",
       "25%           4.688889                  2.311111      0.600000   \n",
       "50%          12.000000                 12.000000      0.780000   \n",
       "75%          18.838889                 18.838889      0.890000   \n",
       "max          39.905556                 39.344444      1.000000   \n",
       "\n",
       "       Wind Speed (km/h)  Wind Bearing (degrees)  Visibility (km)  Loud Cover  \\\n",
       "count       96453.000000            96453.000000     96453.000000     96453.0   \n",
       "mean           10.810640              187.509232        10.347325         0.0   \n",
       "std             6.913571              107.383428         4.192123         0.0   \n",
       "min             0.000000                0.000000         0.000000         0.0   \n",
       "25%             5.828200              116.000000         8.339800         0.0   \n",
       "50%             9.965900              180.000000        10.046400         0.0   \n",
       "75%            14.135800              290.000000        14.812000         0.0   \n",
       "max            63.852600              359.000000        16.100000         0.0   \n",
       "\n",
       "       Pressure (millibars)  \n",
       "count          96453.000000  \n",
       "mean            1003.235956  \n",
       "std              116.969906  \n",
       "min                0.000000  \n",
       "25%             1011.900000  \n",
       "50%             1016.450000  \n",
       "75%             1021.090000  \n",
       "max             1046.380000  "
      ]
     },
     "execution_count": 71,
     "metadata": {},
     "output_type": "execute_result"
    }
   ],
   "source": [
    "eda_df.describe()"
   ]
  },
  {
   "cell_type": "markdown",
   "id": "0dfb6357-f5e6-47d0-8524-fac6c1ea655e",
   "metadata": {},
   "source": [
    "### Отбор признаков"
   ]
  },
  {
   "cell_type": "markdown",
   "id": "e5d97be5-3209-4a98-8628-89b0d2db3ef9",
   "metadata": {},
   "source": [
    "Строковые признаки нам не нужны, а категориальные признаки мы превратим в бинарные. Как можно заметить в describe, Loud Cover всегда принимает значение 0, поэтому он тоже лишний."
   ]
  },
  {
   "cell_type": "code",
   "execution_count": 72,
   "id": "f61e2005-bbc1-4244-b0a0-42e07affd8da",
   "metadata": {},
   "outputs": [
    {
     "name": "stdout",
     "output_type": "stream",
     "text": [
      "<class 'pandas.core.frame.DataFrame'>\n",
      "RangeIndex: 96453 entries, 0 to 96452\n",
      "Data columns (total 9 columns):\n",
      " #   Column                    Non-Null Count  Dtype  \n",
      "---  ------                    --------------  -----  \n",
      " 0   Temperature (C)           96453 non-null  float64\n",
      " 1   Apparent Temperature (C)  96453 non-null  float64\n",
      " 2   Humidity                  96453 non-null  float64\n",
      " 3   Wind Speed (km/h)         96453 non-null  float64\n",
      " 4   Wind Bearing (degrees)    96453 non-null  float64\n",
      " 5   Visibility (km)           96453 non-null  float64\n",
      " 6   Pressure (millibars)      96453 non-null  float64\n",
      " 7   Precip Type_rain          96453 non-null  uint8  \n",
      " 8   Precip Type_snow          96453 non-null  uint8  \n",
      "dtypes: float64(7), uint8(2)\n",
      "memory usage: 5.3 MB\n"
     ]
    }
   ],
   "source": [
    "eda_df.drop(['Formatted Date', 'Summary', 'Daily Summary', 'Loud Cover'], axis=1, inplace=True)\n",
    "eda_df = pd.get_dummies(eda_df)\n",
    "eda_df.info()"
   ]
  },
  {
   "cell_type": "markdown",
   "id": "b4679bac-19b9-4d25-b965-06bfae1f6920",
   "metadata": {},
   "source": [
    "Для большей читаемости, переименуем признаки Recip Type, сократив их название. Также переименуем и остальные признаки, убрав подсказки в скобках"
   ]
  },
  {
   "cell_type": "code",
   "execution_count": 73,
   "id": "5f081b9f-0656-43fb-97e5-271ea5d87933",
   "metadata": {},
   "outputs": [
    {
     "name": "stdout",
     "output_type": "stream",
     "text": [
      "<class 'pandas.core.frame.DataFrame'>\n",
      "RangeIndex: 96453 entries, 0 to 96452\n",
      "Data columns (total 9 columns):\n",
      " #   Column                Non-Null Count  Dtype  \n",
      "---  ------                --------------  -----  \n",
      " 0   Temperature           96453 non-null  float64\n",
      " 1   Apparent Temperature  96453 non-null  float64\n",
      " 2   Humidity              96453 non-null  float64\n",
      " 3   Wind Speed            96453 non-null  float64\n",
      " 4   Wind Bearing          96453 non-null  float64\n",
      " 5   Visibility            96453 non-null  float64\n",
      " 6   Pressure              96453 non-null  float64\n",
      " 7   Rainy                 96453 non-null  uint8  \n",
      " 8   Snowy                 96453 non-null  uint8  \n",
      "dtypes: float64(7), uint8(2)\n",
      "memory usage: 5.3 MB\n"
     ]
    }
   ],
   "source": [
    "eda_df.rename(columns={\n",
    "    'Precip Type_rain': 'Rainy',\n",
    "    'Precip Type_snow': 'Snowy',\n",
    "    'Temperature (C)': 'Temperature',\n",
    "    'Apparent Temperature (C)': 'Apparent Temperature',\n",
    "    'Wind Speed (km/h)': 'Wind Speed',\n",
    "    'Wind Bearing (degrees)': 'Wind Bearing',\n",
    "    'Visibility (km)': 'Visibility',\n",
    "    'Pressure (millibars)': 'Pressure'\n",
    "}, inplace=True)\n",
    "eda_df.info()"
   ]
  },
  {
   "cell_type": "markdown",
   "id": "39dfc2f7-4950-4fa8-a28b-095fa20403fa",
   "metadata": {},
   "source": [
    "Красота!"
   ]
  },
  {
   "cell_type": "markdown",
   "id": "b6d47413-35e3-4a3c-8e82-f7ac7e6dff33",
   "metadata": {},
   "source": [
    "### Корреляционный анализ"
   ]
  },
  {
   "cell_type": "code",
   "execution_count": 74,
   "id": "ba15d5f6-7f96-4e40-ab3d-1ba1bcc99d67",
   "metadata": {},
   "outputs": [
    {
     "data": {
      "text/plain": [
       "<AxesSubplot:>"
      ]
     },
     "execution_count": 74,
     "metadata": {},
     "output_type": "execute_result"
    },
    {
     "data": {
      "image/png": "[encoded data removed]",
      "text/plain": [
       "<Figure size 864x432 with 2 Axes>"
      ]
     },
     "metadata": {
      "needs_background": "light"
     },
     "output_type": "display_data"
    }
   ],
   "source": [
    "f = plt.figure()\n",
    "f.set_figwidth(12)\n",
    "f.set_figheight(6)\n",
    "\n",
    "corr_mat = eda_df.corr()\n",
    "sns.heatmap(corr_mat, annot=True)"
   ]
  },
  {
   "cell_type": "markdown",
   "id": "cb723e8d-5132-4cdb-872a-1ef6913fc032",
   "metadata": {},
   "source": [
    "Можно увидеть сильную взаимосвязь между признаками __Temperature__ и __Apparent Temperature__"
   ]
  },
  {
   "cell_type": "markdown",
   "id": "1ef86e55-5cf2-4532-a103-a22d2d1a2189",
   "metadata": {},
   "source": [
    "### Дисперсионный анализ"
   ]
  },
  {
   "cell_type": "markdown",
   "id": "754ba969-9eec-4799-831d-9b53e736551d",
   "metadata": {},
   "source": [
    "Возьмем два признака из корреляционного анализа и проверим, равны ли их средние значения. Для этого подберем выборку из 1000 наблюдений"
   ]
  },
  {
   "cell_type": "code",
   "execution_count": 75,
   "id": "5ea0a090-0beb-429f-8f1c-2be591fa78ca",
   "metadata": {},
   "outputs": [
    {
     "data": {
      "text/plain": [
       "F_onewayResult(statistic=5.272395644418995, pvalue=0.02176924935244418)"
      ]
     },
     "execution_count": 75,
     "metadata": {},
     "output_type": "execute_result"
    }
   ],
   "source": [
    "sample = eda_df.sample(1000, random_state=21)\n",
    "variance_a = stats.f_oneway(sample['Temperature'], sample['Apparent Temperature'])\n",
    "variance_a"
   ]
  },
  {
   "cell_type": "code",
   "execution_count": 76,
   "id": "d1ca5f7c-7ff8-4883-abae-56455debfd88",
   "metadata": {},
   "outputs": [
    {
     "name": "stdout",
     "output_type": "stream",
     "text": [
      "Равны ли средние: False\n"
     ]
    }
   ],
   "source": [
    "print(f'Равны ли средние: {variance_a.pvalue > 0.05}')"
   ]
  },
  {
   "cell_type": "markdown",
   "id": "4b120303-e508-4771-864a-e3dd6718eb98",
   "metadata": {},
   "source": [
    "Нулевая гипотеза о том, что средние значения в каждой выборке равны отвергается."
   ]
  },
  {
   "cell_type": "markdown",
   "id": "b541735d-08f7-49fb-8fed-96f2b588f4a8",
   "metadata": {},
   "source": [
    "### Факторный анализ"
   ]
  },
  {
   "cell_type": "markdown",
   "id": "b6d6a842-423e-4b0a-a0ec-9d804f1aa4b5",
   "metadata": {},
   "source": [
    "Хоть средние и не равны, тем не менее эти признаки сильно взаимосвязаны, как нам показал корреляционный анализ. Для линейной модели регрессии плохо, когда она учится на двух похожих признаках, она может переобучиться. Это как если обучать ее одиними и теми же входными данными. Давайте объедими два признака в один используя метод главных компонент (PCA)"
   ]
  },
  {
   "cell_type": "code",
   "execution_count": 77,
   "id": "8d119802-fcc3-4bc8-9e3a-4be5dfc11a86",
   "metadata": {},
   "outputs": [
    {
     "name": "stdout",
     "output_type": "stream",
     "text": [
      "[0.99636132]\n"
     ]
    }
   ],
   "source": [
    "temperature_features = eda_df[['Temperature', 'Apparent Temperature']]\n",
    "pca = PCA(n_components=1)\n",
    "two_tempeatures = pca.fit_transform(temperature_features)\n",
    "print(pca.explained_variance_ratio_)"
   ]
  },
  {
   "cell_type": "markdown",
   "id": "95c1d7f6-1b08-42b6-b158-4b8fe0818575",
   "metadata": {},
   "source": [
    "Как можем заметить, если мы объединим два признака, мы потеряем совсем немного информации. Можно объединять"
   ]
  },
  {
   "cell_type": "code",
   "execution_count": 78,
   "id": "17049b6b-632c-4598-ae67-8eb1f2dc3eda",
   "metadata": {},
   "outputs": [],
   "source": [
    "eda_df['Temperature'] = two_tempeatures\n",
    "eda_df.drop('Apparent Temperature', axis=1, inplace=True)"
   ]
  },
  {
   "cell_type": "markdown",
   "id": "41015f75-7a7d-46e8-b119-6b11539202f4",
   "metadata": {},
   "source": [
    "### Нормальность распределения"
   ]
  },
  {
   "cell_type": "markdown",
   "id": "c69a7c33-b627-4f48-bcdb-22a35d3d73f9",
   "metadata": {},
   "source": [
    "Гипотезу будем проверять на выборке из дисперсионного анализа. Проверять будем температуру. Посмотрим на распределение визуально"
   ]
  },
  {
   "cell_type": "code",
   "execution_count": 43,
   "id": "75615a06-79b1-4b16-be06-6504b4c59bd9",
   "metadata": {},
   "outputs": [
    {
     "data": {
      "text/plain": [
       "<AxesSubplot:xlabel='Temperature', ylabel='Count'>"
      ]
     },
     "execution_count": 43,
     "metadata": {},
     "output_type": "execute_result"
    },
    {
     "data": {
      "image/png": "[encoded data removed]",
      "text/plain": [
       "<Figure size 432x288 with 1 Axes>"
      ]
     },
     "metadata": {
      "needs_background": "light"
     },
     "output_type": "display_data"
    }
   ],
   "source": [
    "sns.histplot(x=sample['Temperature'])"
   ]
  },
  {
   "cell_type": "markdown",
   "id": "9f2e48a4-f7c6-4bab-b835-d9ea0eef8dc1",
   "metadata": {},
   "source": [
    "Для проверки на нормальность распределения воспользуемся критерием Шапиро Уилка"
   ]
  },
  {
   "cell_type": "code",
   "execution_count": 41,
   "id": "2150e96b-75eb-491f-80d7-99fd7327c093",
   "metadata": {},
   "outputs": [
    {
     "data": {
      "text/plain": [
       "False"
      ]
     },
     "execution_count": 41,
     "metadata": {},
     "output_type": "execute_result"
    }
   ],
   "source": [
    "stat, p = stats.shapiro(sample['Temperature'])\n",
    "p > 0.05"
   ]
  },
  {
   "cell_type": "markdown",
   "id": "80254434-858c-48f8-9b50-12015deeb3ed",
   "metadata": {},
   "source": [
    "Нулевая гипотеза опровергнута, значит значения не распределены нормально."
   ]
  },
  {
   "cell_type": "markdown",
   "id": "8f88c326-45c1-4b35-916b-a59a20375007",
   "metadata": {},
   "source": [
    "## Обучение"
   ]
  },
  {
   "cell_type": "markdown",
   "id": "44bb53c6-42fd-467c-b060-38fdc26e9f27",
   "metadata": {},
   "source": [
    "Разобьем данные на обучающую и валидационную выборку"
   ]
  },
  {
   "cell_type": "code",
   "execution_count": 80,
   "id": "9165bb06-1ef1-4fca-85d5-c4a7c0617575",
   "metadata": {},
   "outputs": [],
   "source": [
    "X = eda_df.drop('Temperature', axis=1)\n",
    "y = eda_df['Temperature']\n",
    "X_train, X_valid, y_train, y_valid = train_test_split(X, y, test_size=0.3, random_state=42)"
   ]
  },
  {
   "cell_type": "markdown",
   "id": "7b4ad850-6002-4837-af02-9e63c598a21c",
   "metadata": {},
   "source": [
    "Обучим модель линейной регрессии предсказывать температуру"
   ]
  },
  {
   "cell_type": "code",
   "execution_count": 88,
   "id": "5bfe40e0-b162-4b02-ac72-25bba7001321",
   "metadata": {},
   "outputs": [],
   "source": [
    "model = LinearRegression().fit(X_train, y_train)"
   ]
  },
  {
   "cell_type": "markdown",
   "id": "e24f653f-89ee-4ad7-a49b-2166b09fbafe",
   "metadata": {},
   "source": [
    "Предскажем целевую переменную на валидационной выборке"
   ]
  },
  {
   "cell_type": "code",
   "execution_count": 86,
   "id": "0bc876f7-7185-4a08-8440-6a14479c793d",
   "metadata": {},
   "outputs": [],
   "source": [
    "y_pred = model.predict(X_valid)"
   ]
  },
  {
   "cell_type": "markdown",
   "id": "c42e85f6-6591-41c7-aa93-e38f13c80edd",
   "metadata": {},
   "source": [
    "### Метрики качества"
   ]
  },
  {
   "cell_type": "markdown",
   "id": "1810354b-4492-46e1-8412-2ce758b36357",
   "metadata": {},
   "source": [
    "Оценим качество обученной модели на тренировочной и валидационной выборке используя метрику $R^2$"
   ]
  },
  {
   "cell_type": "code",
   "execution_count": 93,
   "id": "dea2914e-b6b7-4d96-9b10-3c4c3dfbac90",
   "metadata": {},
   "outputs": [
    {
     "name": "stdout",
     "output_type": "stream",
     "text": [
      "Train: 0.34575873408392777 \n",
      "Valid: 0.35224910774282137\n"
     ]
    }
   ],
   "source": [
    "print(f'Train: {r2_score(y_pred, y_valid)} \\\n",
    "\\nValid: {r2_score(model.predict(X_train), y_train)}')"
   ]
  },
  {
   "cell_type": "markdown",
   "id": "3c69dee4-e6bc-4211-a46d-6e8ea57890d7",
   "metadata": {},
   "source": [
    "Качество линейной модели невысоко"
   ]
  }
 ],
 "metadata": {
  "kernelspec": {
   "display_name": "Python 3 (ipykernel)",
   "language": "python",
   "name": "python3"
  },
  "language_info": {
   "codemirror_mode": {
    "name": "ipython",
    "version": 3
   },
   "file_extension": ".py",
   "mimetype": "text/x-python",
   "name": "python",
   "nbconvert_exporter": "python",
   "pygments_lexer": "ipython3",
   "version": "3.9.7"
  }
 },
 "nbformat": 4,
 "nbformat_minor": 5
}
